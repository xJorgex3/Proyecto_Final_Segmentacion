{
  "nbformat": 4,
  "nbformat_minor": 0,
  "metadata": {
    "colab": {
      "provenance": []
    },
    "kernelspec": {
      "name": "python3",
      "display_name": "Python 3"
    },
    "language_info": {
      "name": "python"
    }
  },
  "cells": [
    {
      "cell_type": "code",
      "execution_count": null,
      "metadata": {
        "id": "mKK6gn9wyqYX"
      },
      "outputs": [],
      "source": [
        "from sklearn.cluster import KMeans\n",
        "import matplotlib.pyplot as plt\n",
        "\n",
        "# Determina el número óptimo de clusters 'k' basado en el método del codo (aquí un ejemplo, reemplaza 3 con tu valor)\n",
        "k = 3  # Reemplaza con el número óptimo de clusters que encontraste\n",
        "\n",
        "# Aplica K-means clustering con el número óptimo de clusters\n",
        "kmeans = KMeans(n_clusters=k, init='k-means++', max_iter=300, n_init=10, random_state=0)\n",
        "kmeans.fit(rfm_data[[\"Recencia\", \"Frecuencia\", \"ValorMonetario\"]])\n",
        "\n",
        "# Asigna los clusters a los datos originales\n",
        "rfm_data['Cluster'] = kmeans.labels_\n",
        "\n",
        "# Imprime algunos ejemplos para verificar los resultados\n",
        "print(rfm_data.head())\n",
        "\n",
        "# Opcional: Visualiza los clusters (ejemplo con Recencia vs Frecuencia)\n",
        "plt.scatter(rfm_data['Recencia'], rfm_data['Frecuencia'], c=rfm_data['Cluster'], cmap='viridis')\n",
        "plt.xlabel('Recencia')\n",
        "plt.ylabel('Frecuencia')\n",
        "plt.title('Clusters de Clientes (Recencia vs Frecuencia)')\n",
        "plt.colorbar(label='Cluster')\n",
        "plt.show()"
      ]
    }
  ]
}